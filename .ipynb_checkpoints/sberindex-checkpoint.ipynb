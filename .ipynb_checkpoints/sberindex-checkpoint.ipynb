{
 "cells": [
  {
   "cell_type": "code",
   "execution_count": 1,
   "metadata": {},
   "outputs": [],
   "source": [
    "import requests\n",
    "import json\n",
    "import pandas as pd\n",
    "import numpy as np\n",
    "from datetime import datetime\n",
    "pd.set_option('display.max_rows', 500)\n",
    "from isoweek import Week\n"
   ]
  },
  {
   "cell_type": "code",
   "execution_count": 7,
   "metadata": {},
   "outputs": [],
   "source": [
    "# потребительская статистика по всем регионам (точки для карты на сайте)\n",
    "consumer_url = 'https://www.sberindex.ru/data/variety.json'\n",
    "# бизнес - изменение объема ФОТ\n",
    "business_fot_url = 'https://www.sberindex.ru/data/salary.json'\n",
    "#изменение оборотов бизнеса\n",
    "business_turnover_url = 'https://www.sberindex.ru/data/tournover.json'\n",
    "# Изменение активности малого бизнеса по регионам по неделям\n",
    "small_business_regions_url = 'https://www.sberindex.ru/data/evotor-regions.json'\n",
    "# Изменение активности малого бизнеса по категориям по неделям\n",
    "small_business_categories_url = 'https://www.sberindex.ru/data/evotor-categories.json'\n",
    " # Изменение потребительских трат по категориям, по неделям\n",
    "consumer_goods_url = 'https://www.sberindex.ru/data/goods.json'\n",
    "\n",
    "#неидентифицированные данные\n",
    "unknown_1 = 'https://www.sberindex.ru/data/variety-comparison.json'\n",
    "unknown_2 = 'https://www.sberindex.ru/data/increase.json'"
   ]
  },
  {
   "cell_type": "code",
   "execution_count": 8,
   "metadata": {},
   "outputs": [],
   "source": [
    "def collect_data(url):\n",
    "    '''Сбор данных по ссылке. Возврат датафрейма df и df_len - длина ряда'''\n",
    "    # сохранение данных по потреб активности по регионам (точки на графике на сайте)\n",
    "    data = json.loads(requests.get(url).content)\n",
    "    # длина массива для размеров датафрейма\n",
    "    df_len = len(data) \n",
    "    # из данных забираем названия столбцов\n",
    "    regions = list(data[0].keys())\n",
    "    # формируем дф с заданной длиной и столбцами из исходника\n",
    "    df = pd.DataFrame(index=np.arange(df_len), columns=regions)\n",
    "\n",
    "    # перенос данных по дням в дф в исходном виде\n",
    "    index = 0\n",
    "    for day in data:\n",
    "        for key, value in day.items():\n",
    "            df[key][index] = value\n",
    "        index += 1\n",
    "        \n",
    "   \n",
    "    return df, df_len\n",
    "    "
   ]
  },
  {
   "cell_type": "markdown",
   "metadata": {},
   "source": [
    "## Данные по потребительской активности"
   ]
  },
  {
   "cell_type": "markdown",
   "metadata": {},
   "source": [
    "### Регионы"
   ]
  },
  {
   "cell_type": "code",
   "execution_count": null,
   "metadata": {},
   "outputs": [],
   "source": [
    "# сбор\n",
    "consumer_df, df_len =  collect_data(consumer_url)   \n",
    "# конвертация в даты\n",
    "consumer_df['date'] = pd.to_datetime(consumer_df['date'])\n",
    "\n",
    "# сортировка по столбцу дат\n",
    "consumer_df.sort_values(by = ['date'], inplace = True)"
   ]
  },
  {
   "cell_type": "markdown",
   "metadata": {},
   "source": [
    "### Товары"
   ]
  },
  {
   "cell_type": "code",
   "execution_count": null,
   "metadata": {},
   "outputs": [],
   "source": [
    "# сбор\n",
    "consumer_goods_df, df_len = collect_data(consumer_goods_url)\n",
    "# заполнение столбца недель днями начала недель\n",
    "consumer_goods_df ['isoweek'] = pd.date_range(start='03/02/20', periods=df_len, freq='7D')\n",
    "\n",
    "# норм название\n",
    "consumer_goods_df.rename(columns={\"isoweek\": \"Неделя, начиная с даты (гггг/мм/дд)\"}, inplace = True)\n",
    "\n"
   ]
  },
  {
   "cell_type": "code",
   "execution_count": null,
   "metadata": {},
   "outputs": [],
   "source": [
    "# запись в эксель\n",
    "date = str(datetime.today().year) + '_' + str(datetime.today().month) + '_' + str(datetime.today().day)\n",
    "filepath = r'C:\\\\Users\\\\Egran\\\\YandexDisk\\\\database\\\\sberindex\\\\'\n",
    "\n",
    "filename = filepath + 'consumer_data' + '_' + str(date) + '.xlsx'\n",
    "\n",
    "writer = pd.ExcelWriter(filename, engine='xlsxwriter')\n",
    "\n",
    "consumer_df.to_excel(writer, sheet_name='Данные по регионам')\n",
    "consumer_goods_df.to_excel(writer, sheet_name = 'Данные по категориям')\n",
    "\n",
    "writer.save()"
   ]
  },
  {
   "cell_type": "markdown",
   "metadata": {},
   "source": [
    "## Бизнес активность"
   ]
  },
  {
   "cell_type": "markdown",
   "metadata": {},
   "source": [
    "### Изменение ФОТ за указанный месяц"
   ]
  },
  {
   "cell_type": "code",
   "execution_count": 11,
   "metadata": {},
   "outputs": [],
   "source": [
    "# сбор\n",
    "business_fot_df, df_len = collect_data(business_fot_url)\n",
    "    \n",
    "business_fot_df.rename(columns={\"date\": \"Месяц\"}, inplace = True)\n"
   ]
  },
  {
   "cell_type": "markdown",
   "metadata": {},
   "source": [
    "### Изменение оборотов бизнеса к аналогичной неделе 2019"
   ]
  },
  {
   "cell_type": "code",
   "execution_count": 10,
   "metadata": {},
   "outputs": [],
   "source": [
    "# сбор\n",
    "business_turnover_df, df_len = collect_data(business_turnover_url)\n",
    "\n",
    "# заполнение столбца недель днями начала недель\n",
    "week_num = business_turnover_df['isoweek'][0]\n",
    "w = Week(2020, int(week_num))\n",
    "week_start = w.monday()\n",
    "business_turnover_df['isoweek'] = pd.date_range(start=week_start, periods=df_len, freq='7D')\n",
    "\n",
    "# норм название\n",
    "business_turnover_df.rename(columns={\"isoweek\": \"Неделя, начиная с даты (гггг/мм/дд)\", \n",
    "                                    'index' : 'Индекс роста к аналогичной неделе 2019 г.'}, \n",
    "                            inplace = True)"
   ]
  },
  {
   "cell_type": "markdown",
   "metadata": {},
   "source": [
    "### Изменение активности малого бизнеса по категориям"
   ]
  },
  {
   "cell_type": "code",
   "execution_count": 12,
   "metadata": {},
   "outputs": [],
   "source": [
    "# сбор\n",
    "small_business_categories_df, df_len = collect_data(small_business_categories_url)\n",
    "   \n",
    "# заполнение столбца недель днями начала недель\n",
    "week_num = small_business_categories_df['isoweek'][0]\n",
    "w = Week(2020, int(week_num))\n",
    "week_start = w.monday()\n",
    "small_business_categories_df['isoweek'] = pd.date_range(start=week_start, periods=df_len, freq='7D')\n",
    "\n",
    "# норм название\n",
    "small_business_categories_df.rename(columns={\"isoweek\": \"Неделя, начиная с даты (гггг/мм/дд)\"}, \n",
    "                            inplace = True)"
   ]
  },
  {
   "cell_type": "markdown",
   "metadata": {},
   "source": [
    "### Изменение активности малого бизнеса по регионам по неделям"
   ]
  },
  {
   "cell_type": "code",
   "execution_count": 9,
   "metadata": {},
   "outputs": [],
   "source": [
    "# сбор\n",
    "small_business_regions_df, df_len = collect_data(small_business_regions_url)\n",
    "\n",
    "# заполнение столбца недель днями начала недель\n",
    "# здесь смещается начало отсчета, поэтому будем обновлять его\n",
    "week_num = small_business_regions_df['isoweek'][0]\n",
    "w = Week(2020, int(week_num))\n",
    "week_start = w.monday()\n",
    "small_business_regions_df['isoweek'] = pd.date_range(start=week_start, periods=df_len, freq='7D' )\n",
    "\n",
    "# норм название\n",
    "small_business_regions_df.rename(columns={\"isoweek\": \"Неделя, начиная с даты (гггг/мм/дд)\"}, \n",
    "                            inplace = True)\n",
    "\n"
   ]
  },
  {
   "cell_type": "code",
   "execution_count": 14,
   "metadata": {},
   "outputs": [],
   "source": [
    "# запись в эксель\n",
    "date = str(datetime.today().year) + '_' + str(datetime.today().month) + '_' + str(datetime.today().day)\n",
    "filepath = r'C:\\\\Users\\\\Egran\\\\YandexDisk\\\\database\\\\sberindex\\\\'\n",
    "filename = filepath + 'business_data' + '_' + str(date) + '.xlsx'\n",
    "\n",
    "writer = pd.ExcelWriter(filename, engine='xlsxwriter')\n",
    "\n",
    "business_fot_df.to_excel(writer, sheet_name='Изменение ФОТ')\n",
    "business_turnover_df.to_excel(writer, sheet_name = 'Изменение оборотов')\n",
    "small_business_categories_df.to_excel(writer, sheet_name = 'Активность по отраслям')\n",
    "small_business_regions_df.to_excel(writer, sheet_name = 'Активность по регионам')\n",
    "writer.save()"
   ]
  },
  {
   "cell_type": "code",
   "execution_count": null,
   "metadata": {},
   "outputs": [],
   "source": []
  }
 ],
 "metadata": {
  "kernelspec": {
   "display_name": "Python 3",
   "language": "python",
   "name": "python3"
  },
  "language_info": {
   "codemirror_mode": {
    "name": "ipython",
    "version": 3
   },
   "file_extension": ".py",
   "mimetype": "text/x-python",
   "name": "python",
   "nbconvert_exporter": "python",
   "pygments_lexer": "ipython3",
   "version": "3.6.8"
  }
 },
 "nbformat": 4,
 "nbformat_minor": 4
}
